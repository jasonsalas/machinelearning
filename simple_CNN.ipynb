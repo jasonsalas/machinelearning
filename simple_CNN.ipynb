{
 "cells": [
  {
   "cell_type": "code",
   "execution_count": 6,
   "metadata": {},
   "outputs": [],
   "source": [
    "import torch\n",
    "import torchvision\n",
    "from torch import nn\n",
    "from torch.utils.data import DataLoader\n",
    "from torch import optim\n",
    "from torchvision import datasets, transforms"
   ]
  },
  {
   "cell_type": "code",
   "execution_count": 3,
   "metadata": {},
   "outputs": [],
   "source": [
    "# device configuration\n",
    "device = torch.device('cuda:0' if torch.cuda.is_available() else 'cpu')"
   ]
  },
  {
   "cell_type": "code",
   "execution_count": 9,
   "metadata": {},
   "outputs": [],
   "source": [
    "# get MNIST data\n",
    "transform = transforms.ToTensor()\n",
    "\n",
    "train_dataset = torchvision.datasets.MNIST(root='torch/data', train=True, download=True, transform=transform)\n",
    "test_dataset = torchvision.datasets.MNIST(root='torch/data', train=False, download=True, transform=transform)\n",
    "\n",
    "train_loader = DataLoader(dataset=train_dataset, batch_size=100, shuffle=False)\n",
    "test_loader = DataLoader(dataset=test_dataset, batch_size=100, shuffle=False)"
   ]
  },
  {
   "cell_type": "markdown",
   "metadata": {},
   "source": [
    "## convolutional neural network architecture"
   ]
  },
  {
   "cell_type": "code",
   "execution_count": 17,
   "metadata": {},
   "outputs": [],
   "source": [
    "class ConvNet(nn.Module):\n",
    "    def __init__(self):\n",
    "        super(ConvNet, self).__init__()\n",
    "\n",
    "        ''' CONVOLUTIONAL LAYER '''\n",
    "        # in: 28-x-28, 0 channels\n",
    "        # out: 14-x-14, 16 channels\n",
    "        self.layer1 = nn.Sequential(\n",
    "            nn.Conv2d(in_channels=1, out_channels=16, kernel_size=5, stride=1, padding=2),\n",
    "            nn.BatchNorm2d(16),\n",
    "            nn.ReLU(),\n",
    "            nn.MaxPool2d(kernel_size=2, stride=2))\n",
    "\n",
    "        ''' CONVOLUTIONAL LAYER'''\n",
    "        # in: 14-x-14, 16 channels\n",
    "        # out: 7-x-7, 32 channels\n",
    "        self.layer2 = nn.Sequential(\n",
    "            nn.Conv2d(in_channels=16, out_channels=32, kernel_size=5, stride=1, padding=2),\n",
    "            nn.BatchNorm2d(32),\n",
    "            nn.ReLU(),\n",
    "            nn.MaxPool2d(kernel_size=2, stride=2))\n",
    "\n",
    "        ''' FULLY-CONNECTED LAYER'''\n",
    "        # in: 7 * 7 * 32\n",
    "        # out: 10 classes\n",
    "        self.fc = nn.Linear(7*7*32, 10)\n",
    "\n",
    "    def forward(self, x):\n",
    "        # feed-forward through the convolutional layers\n",
    "        x = self.layer1(x)\n",
    "        x = self.layer2(x)\n",
    "\n",
    "        # flatten the image data for the fully-connected layer\n",
    "        x = x.reshape(x.size(0), -1)\n",
    "        x = self.fc(x)\n",
    "\n",
    "        return x"
   ]
  },
  {
   "cell_type": "markdown",
   "metadata": {},
   "source": [
    "### instantiate the neural network"
   ]
  },
  {
   "cell_type": "code",
   "execution_count": 22,
   "metadata": {},
   "outputs": [],
   "source": [
    "# the model\n",
    "model = ConvNet().to(device)\n",
    "\n",
    "# loss and optimization functions\n",
    "criterion = nn.CrossEntropyLoss()\n",
    "optimizer = torch.optim.Adam(model.parameters(), lr=0.001)"
   ]
  },
  {
   "cell_type": "markdown",
   "metadata": {},
   "source": [
    "#  MODEL TRAINING"
   ]
  },
  {
   "cell_type": "code",
   "execution_count": 23,
   "metadata": {},
   "outputs": [
    {
     "name": "stdout",
     "output_type": "stream",
     "text": [
      "Epoch: [1/2], Step: [100/600], Loss: 0.0903\n",
      "Epoch: [1/2], Step: [200/600], Loss: 0.0731\n",
      "Epoch: [1/2], Step: [300/600], Loss: 0.1183\n",
      "Epoch: [1/2], Step: [400/600], Loss: 0.0625\n",
      "Epoch: [1/2], Step: [500/600], Loss: 0.0942\n",
      "Epoch: [1/2], Step: [600/600], Loss: 0.2129\n",
      "Epoch: [2/2], Step: [100/600], Loss: 0.0204\n",
      "Epoch: [2/2], Step: [200/600], Loss: 0.0236\n",
      "Epoch: [2/2], Step: [300/600], Loss: 0.0613\n",
      "Epoch: [2/2], Step: [400/600], Loss: 0.0325\n",
      "Epoch: [2/2], Step: [500/600], Loss: 0.0469\n",
      "Epoch: [2/2], Step: [600/600], Loss: 0.2090\n"
     ]
    }
   ],
   "source": [
    "model.train()  # DOES THIS MATTER????\n",
    "\n",
    "total_step = len(train_loader)\n",
    "n_epochs = 2\n",
    "\n",
    "for epoch in range(n_epochs):\n",
    "    for i, (images, labels) in enumerate(train_loader):\n",
    "        images, labels = images.to(device), labels.to(device)\n",
    "        \n",
    "        # prevent the gradients from accumulating\n",
    "        optimizer.zero_grad()\n",
    "        \n",
    "        # forward-propagation\n",
    "        # (analogous to model.forward(images))\n",
    "        output = model(images)\n",
    "        \n",
    "        # compute loss\n",
    "        loss = criterion(output, labels)\n",
    "        \n",
    "        # back-propagation\n",
    "        loss.backward()\n",
    "        \n",
    "        # update the gradients' weights\n",
    "        optimizer.step()\n",
    "        \n",
    "        if (i+1) % 100 == 0:\n",
    "            print('Epoch: [{}/{}], Step: [{}/{}], Loss: {:.4f}'.format(epoch+1, n_epochs, i+1, total_step, loss.item()))"
   ]
  },
  {
   "cell_type": "markdown",
   "metadata": {},
   "source": [
    "# MODEL TESTING"
   ]
  },
  {
   "cell_type": "code",
   "execution_count": 25,
   "metadata": {},
   "outputs": [
    {
     "name": "stdout",
     "output_type": "stream",
     "text": [
      "Test accuracy of the model on 10,000 it never saw previously: 98.52%\n"
     ]
    }
   ],
   "source": [
    "model.eval()\n",
    "\n",
    "with torch.no_grad():\n",
    "    correct = 0\n",
    "    total = 0\n",
    "    \n",
    "    for images, labels in test_loader:\n",
    "        images, labels = images.to(device), labels.to(device)\n",
    "        \n",
    "        # forward-propagate test-set data\n",
    "        output = model(images)\n",
    "        \n",
    "        # make predictions based on the class probabilities of the CNN's output\n",
    "        _, predicted = torch.max(output.data, 1)\n",
    "        \n",
    "        total += labels.size(0)\n",
    "        correct += (predicted == labels).sum().item()\n",
    "        \n",
    "    print('Test accuracy of the model on 10,000 it never saw previously: {}%'.format(100 * correct / total))\n",
    "    \n",
    "\n",
    "# save the model's checkpoint\n",
    "torch.save(model.state_dict(), 'torch/model.ckpt')"
   ]
  },
  {
   "cell_type": "code",
   "execution_count": null,
   "metadata": {},
   "outputs": [],
   "source": []
  }
 ],
 "metadata": {
  "kernelspec": {
   "display_name": "Python 3",
   "language": "python",
   "name": "python3"
  },
  "language_info": {
   "codemirror_mode": {
    "name": "ipython",
    "version": 3
   },
   "file_extension": ".py",
   "mimetype": "text/x-python",
   "name": "python",
   "nbconvert_exporter": "python",
   "pygments_lexer": "ipython3",
   "version": "3.6.7"
  }
 },
 "nbformat": 4,
 "nbformat_minor": 2
}
