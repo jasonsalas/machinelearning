{
 "cells": [
  {
   "cell_type": "markdown",
   "metadata": {},
   "source": [
    "# classification pipelining"
   ]
  },
  {
   "cell_type": "markdown",
   "metadata": {},
   "source": [
    "This is a quick demo of machine learning model optimization through multi-step pipelining and grid search for various hyperparameter values using [sci-kit learn](http://scikit-learn.org). Many of the ideas were based on code from the [sklearn documentation](http://scikit-learn.org/stable/documentation.html), [Introduction to Machine Learning with Python](https://www.amazon.com/Introduction-Machine-Learning-Python-Scientists/dp/1449369413), and [scikit-learn Cookbook](https://www.amazon.com/scikit-learn-Cookbook-recipes-machine-learning/dp/178728638X/). It applie classification techniques to the [Iris Dataset](https://archive.ics.uci.edu/ml/datasets/iris) ([docs](https://en.wikipedia.org/wiki/Iris_flower_data_set)).\n",
    "\n",
    "As classifiers, it compares performance and accuracy between a support vector classifier, a linear support vector classifier, logistic regression, and several ensemble models - random forests, Ada boosting, and gradient boosting. Where applicable to the particular model, it also normalizes the data through scaling and applies dimensionality reduction through [principal component analysis](https://en.wikipedia.org/wiki/Principal_component_analysis) or [truncated single value decomposition](https://en.wikipedia.org/wiki/Singular-value_decomposition). \n",
    "\n",
    "Of particular interest is that the Iris dataset, being notoriously difficult to achieve high accuracy on because of its small sample size, inability to be linearly-seperable, small number of features and proportionate stratification for floral classes, has a ~98% score for predictive accuracy on the testing set after grid search over varying levels. Also, the training time for this pipeline isn't exactly lightspeed - because of the sheer volume of applicable hypermarameters, each model is trained on 125 combinations. This is perhaps a little excessive, given the preknowledge that most ensemble classifiers will outperform linear SVCs, etc. \n",
    "\n",
    "Training time on the toy dataset took about 90 seconds for me on an 8-core laptop with an Intel Core i7 processor, so this cleatly wouldn't perform well at scale on a real-world dataset. FYI.\n",
    "\n",
    "The final model is an [AdaBoostClassifier](http://scikit-learn.org/stable/modules/generated/sklearn.ensemble.AdaBoostClassifier.html) with the features reduced to 2 from 4 after SVD. Because this is a boosting model, scaling wasn't necessary, and as such, passed over in the pipeline. The weak learners are combined for an aggregate model with impressive accuracy that doesn't seem to be overfitting. \n",
    "\n",
    "This isn't perfect and can certainly be pushed further, but this is more an illustrative lesson on setting up effective preprocessing pipelines, persisting of the optimized model to disk via [Python pickling](https://docs.python.org/2/library/pickle.html), and basic exploratory data analysis."
   ]
  },
  {
   "cell_type": "markdown",
   "metadata": {},
   "source": [
    "## required packages "
   ]
  },
  {
   "cell_type": "code",
   "execution_count": 51,
   "metadata": {},
   "outputs": [],
   "source": [
    "import pandas as pd \n",
    "import numpy as np\n",
    "import matplotlib.pyplot as plt\n",
    "import seaborn as sns\n",
    "import warnings\n",
    "import pickle\n",
    "from sklearn.datasets import load_iris, make_regression, make_classification\n",
    "from sklearn.neighbors import KNeighborsClassifier\n",
    "from sklearn.gaussian_process import GaussianProcessClassifier\n",
    "from sklearn.gaussian_process.kernels import RBF\n",
    "from sklearn.linear_model import LogisticRegression\n",
    "from sklearn.model_selection import GridSearchCV, train_test_split\n",
    "from sklearn.pipeline import Pipeline\n",
    "from sklearn.ensemble import RandomForestClassifier, AdaBoostClassifier, GradientBoostingClassifier\n",
    "from sklearn.svm import SVC, LinearSVC\n",
    "from sklearn.decomposition import PCA, TruncatedSVD\n",
    "from sklearn.manifold import Isomap\n",
    "from sklearn.metrics import accuracy_score\n",
    "from sklearn.preprocessing import StandardScaler, MinMaxScaler, RobustScaler\n",
    "from sklearn.externals import joblib\n",
    "\n",
    "%matplotlib inline\n",
    "sns.set_style('darkgrid')\n",
    "sns.set(style='ticks', color_codes=True)\n",
    "plt.style.use('ggplot')\n",
    "warnings.filterwarnings('ignore')"
   ]
  },
  {
   "cell_type": "markdown",
   "metadata": {},
   "source": [
    "## machine learning preprocessing pipeline"
   ]
  },
  {
   "cell_type": "code",
   "execution_count": 52,
   "metadata": {},
   "outputs": [],
   "source": [
    "pipe = Pipeline([\n",
    "    ('scaling', StandardScaler()),\n",
    "    ('reduce_dim', PCA()),\n",
    "    ('classify', SVC())\n",
    "])\n",
    "\n",
    "param_grid = [{\n",
    "    'scaling' : [StandardScaler(), MinMaxScaler(), RobustScaler()],\n",
    "    'reduce_dim' : [PCA(), Isomap(), TruncatedSVD()],\n",
    "    'reduce_dim__n_components' : [2, 3],\n",
    "    'classify' : [SVC(), LinearSVC(), LogisticRegression()],\n",
    "    'classify__C' : [0.001, 0.01, 0.1, 1, 10, 100, 1000]\n",
    "}, {\n",
    "    'scaling' : [None],\n",
    "    'reduce_dim' : [PCA(), Isomap(), TruncatedSVD()],\n",
    "    'reduce_dim__n_components' : [2, 3],\n",
    "    'classify' : [GaussianProcessClassifier(kernel=RBF(1.0)), KNeighborsClassifier(n_neighbors=3)]\n",
    "},\n",
    "    {\n",
    "    'scaling' : [None],\n",
    "    'reduce_dim' : [PCA(), Isomap(), TruncatedSVD()],\n",
    "    'reduce_dim__n_components' : [2, 3],\n",
    "    'classify' : [RandomForestClassifier()],\n",
    "    'classify__n_estimators' : [10, 20, 30, 40, 50, 60, 70, 80, 90, 100]\n",
    "}, {\n",
    "    'scaling' : [None],\n",
    "    'reduce_dim' : [PCA(), Isomap(), TruncatedSVD()],\n",
    "    'reduce_dim__n_components' : [2, 3],\n",
    "    'classify' : [AdaBoostClassifier(), GradientBoostingClassifier()],\n",
    "    'classify__n_estimators' : [10, 20, 30, 40, 50, 60, 70, 80, 90, 100],\n",
    "    'classify__learning_rate' : [0.001, 0.01, 0.1, 1, 10]\n",
    "}]"
   ]
  },
  {
   "cell_type": "markdown",
   "metadata": {},
   "source": [
    "## train a variety of classification models over a grid of hyperparameter settings"
   ]
  },
  {
   "cell_type": "code",
   "execution_count": 62,
   "metadata": {},
   "outputs": [],
   "source": [
    "grid = GridSearchCV(pipe, cv=3, n_jobs=-1, param_grid=param_grid)\n",
    "iris = load_iris()\n",
    "\n",
    "X_train, X_test, y_train, y_test = train_test_split(iris.data, iris.target, test_size=0.3, stratify=iris.target, random_state=36)\n",
    "grid.fit(X_train, y_train)\n",
    "\n",
    "y_predictions = grid.predict(X_test)"
   ]
  },
  {
   "cell_type": "markdown",
   "metadata": {},
   "source": [
    "## evaluate accuracy"
   ]
  },
  {
   "cell_type": "code",
   "execution_count": 64,
   "metadata": {},
   "outputs": [
    {
     "name": "stdout",
     "output_type": "stream",
     "text": [
      "Optimal model parameters:\n",
      "\n",
      "{'classify': AdaBoostClassifier(algorithm='SAMME.R', base_estimator=None,\n",
      "          learning_rate=0.001, n_estimators=30, random_state=None), 'classify__learning_rate': 0.001, 'classify__n_estimators': 30, 'reduce_dim': TruncatedSVD(algorithm='randomized', n_components=2, n_iter=5,\n",
      "       random_state=None, tol=0.0), 'reduce_dim__n_components': 2, 'scaling': None}\n",
      "\n",
      "Best cross-validation score:\n",
      "--------\n",
      "0.981\n",
      "\n",
      "Test set predictive accuracy:\n",
      "--------\n",
      "0.978\n"
     ]
    }
   ],
   "source": [
    "print('Optimal model parameters:\\n\\n{}\\n'.format(grid.best_params_))\n",
    "print('Best cross-validation score:\\n--------\\n{:.3f}\\n'.format(grid.best_score_))\n",
    "print('Test set predictive accuracy:\\n--------\\n{:.3f}'.format(accuracy_score(y_test, y_predictions)))"
   ]
  },
  {
   "cell_type": "code",
   "execution_count": 65,
   "metadata": {},
   "outputs": [
    {
     "data": {
      "text/html": [
       "<div>\n",
       "<style scoped>\n",
       "    .dataframe tbody tr th:only-of-type {\n",
       "        vertical-align: middle;\n",
       "    }\n",
       "\n",
       "    .dataframe tbody tr th {\n",
       "        vertical-align: top;\n",
       "    }\n",
       "\n",
       "    .dataframe thead th {\n",
       "        text-align: right;\n",
       "    }\n",
       "</style>\n",
       "<table border=\"1\" class=\"dataframe\">\n",
       "  <thead>\n",
       "    <tr style=\"text-align: right;\">\n",
       "      <th></th>\n",
       "      <th>mean_fit_time</th>\n",
       "      <th>std_fit_time</th>\n",
       "      <th>mean_score_time</th>\n",
       "      <th>std_score_time</th>\n",
       "      <th>param_classify</th>\n",
       "      <th>param_classify__C</th>\n",
       "      <th>param_reduce_dim</th>\n",
       "      <th>param_reduce_dim__n_components</th>\n",
       "      <th>param_scaling</th>\n",
       "      <th>param_classify__n_estimators</th>\n",
       "      <th>...</th>\n",
       "      <th>split1_test_score</th>\n",
       "      <th>split2_test_score</th>\n",
       "      <th>mean_test_score</th>\n",
       "      <th>std_test_score</th>\n",
       "      <th>rank_test_score</th>\n",
       "      <th>split0_train_score</th>\n",
       "      <th>split1_train_score</th>\n",
       "      <th>split2_train_score</th>\n",
       "      <th>mean_train_score</th>\n",
       "      <th>std_train_score</th>\n",
       "    </tr>\n",
       "  </thead>\n",
       "  <tbody>\n",
       "    <tr>\n",
       "      <th>0</th>\n",
       "      <td>0.024108</td>\n",
       "      <td>0.005975</td>\n",
       "      <td>0.001737</td>\n",
       "      <td>0.001718</td>\n",
       "      <td>SVC(C=1.0, cache_size=200, class_weight=None, ...</td>\n",
       "      <td>0.001</td>\n",
       "      <td>PCA(copy=True, iterated_power='auto', n_compon...</td>\n",
       "      <td>2</td>\n",
       "      <td>StandardScaler(copy=True, with_mean=True, with...</td>\n",
       "      <td>NaN</td>\n",
       "      <td>...</td>\n",
       "      <td>0.944444</td>\n",
       "      <td>0.727273</td>\n",
       "      <td>0.876190</td>\n",
       "      <td>0.100818</td>\n",
       "      <td>632</td>\n",
       "      <td>0.927536</td>\n",
       "      <td>0.869565</td>\n",
       "      <td>0.944444</td>\n",
       "      <td>0.913849</td>\n",
       "      <td>0.032065</td>\n",
       "    </tr>\n",
       "    <tr>\n",
       "      <th>1</th>\n",
       "      <td>0.028448</td>\n",
       "      <td>0.002700</td>\n",
       "      <td>0.000000</td>\n",
       "      <td>0.000000</td>\n",
       "      <td>SVC(C=1.0, cache_size=200, class_weight=None, ...</td>\n",
       "      <td>0.001</td>\n",
       "      <td>PCA(copy=True, iterated_power='auto', n_compon...</td>\n",
       "      <td>2</td>\n",
       "      <td>MinMaxScaler(copy=True, feature_range=(0, 1))</td>\n",
       "      <td>NaN</td>\n",
       "      <td>...</td>\n",
       "      <td>0.972222</td>\n",
       "      <td>0.757576</td>\n",
       "      <td>0.904762</td>\n",
       "      <td>0.099645</td>\n",
       "      <td>379</td>\n",
       "      <td>0.869565</td>\n",
       "      <td>0.840580</td>\n",
       "      <td>0.930556</td>\n",
       "      <td>0.880233</td>\n",
       "      <td>0.037499</td>\n",
       "    </tr>\n",
       "    <tr>\n",
       "      <th>2</th>\n",
       "      <td>0.021177</td>\n",
       "      <td>0.012198</td>\n",
       "      <td>0.000000</td>\n",
       "      <td>0.000000</td>\n",
       "      <td>SVC(C=1.0, cache_size=200, class_weight=None, ...</td>\n",
       "      <td>0.001</td>\n",
       "      <td>PCA(copy=True, iterated_power='auto', n_compon...</td>\n",
       "      <td>2</td>\n",
       "      <td>RobustScaler(copy=True, quantile_range=(25.0, ...</td>\n",
       "      <td>NaN</td>\n",
       "      <td>...</td>\n",
       "      <td>0.944444</td>\n",
       "      <td>0.696970</td>\n",
       "      <td>0.857143</td>\n",
       "      <td>0.109046</td>\n",
       "      <td>721</td>\n",
       "      <td>0.869565</td>\n",
       "      <td>0.797101</td>\n",
       "      <td>0.888889</td>\n",
       "      <td>0.851852</td>\n",
       "      <td>0.039510</td>\n",
       "    </tr>\n",
       "    <tr>\n",
       "      <th>3</th>\n",
       "      <td>0.005327</td>\n",
       "      <td>0.001883</td>\n",
       "      <td>0.001332</td>\n",
       "      <td>0.001883</td>\n",
       "      <td>SVC(C=1.0, cache_size=200, class_weight=None, ...</td>\n",
       "      <td>0.001</td>\n",
       "      <td>PCA(copy=True, iterated_power='auto', n_compon...</td>\n",
       "      <td>3</td>\n",
       "      <td>StandardScaler(copy=True, with_mean=True, with...</td>\n",
       "      <td>NaN</td>\n",
       "      <td>...</td>\n",
       "      <td>0.972222</td>\n",
       "      <td>0.757576</td>\n",
       "      <td>0.895238</td>\n",
       "      <td>0.093905</td>\n",
       "      <td>502</td>\n",
       "      <td>0.913043</td>\n",
       "      <td>0.956522</td>\n",
       "      <td>0.958333</td>\n",
       "      <td>0.942633</td>\n",
       "      <td>0.020936</td>\n",
       "    </tr>\n",
       "    <tr>\n",
       "      <th>4</th>\n",
       "      <td>0.005327</td>\n",
       "      <td>0.001883</td>\n",
       "      <td>0.002663</td>\n",
       "      <td>0.001883</td>\n",
       "      <td>SVC(C=1.0, cache_size=200, class_weight=None, ...</td>\n",
       "      <td>0.001</td>\n",
       "      <td>PCA(copy=True, iterated_power='auto', n_compon...</td>\n",
       "      <td>3</td>\n",
       "      <td>MinMaxScaler(copy=True, feature_range=(0, 1))</td>\n",
       "      <td>NaN</td>\n",
       "      <td>...</td>\n",
       "      <td>0.972222</td>\n",
       "      <td>0.757576</td>\n",
       "      <td>0.904762</td>\n",
       "      <td>0.099645</td>\n",
       "      <td>379</td>\n",
       "      <td>0.913043</td>\n",
       "      <td>0.956522</td>\n",
       "      <td>0.944444</td>\n",
       "      <td>0.938003</td>\n",
       "      <td>0.018325</td>\n",
       "    </tr>\n",
       "  </tbody>\n",
       "</table>\n",
       "<p>5 rows × 23 columns</p>\n",
       "</div>"
      ],
      "text/plain": [
       "   mean_fit_time  std_fit_time  mean_score_time  std_score_time  \\\n",
       "0       0.024108      0.005975         0.001737        0.001718   \n",
       "1       0.028448      0.002700         0.000000        0.000000   \n",
       "2       0.021177      0.012198         0.000000        0.000000   \n",
       "3       0.005327      0.001883         0.001332        0.001883   \n",
       "4       0.005327      0.001883         0.002663        0.001883   \n",
       "\n",
       "                                      param_classify param_classify__C  \\\n",
       "0  SVC(C=1.0, cache_size=200, class_weight=None, ...             0.001   \n",
       "1  SVC(C=1.0, cache_size=200, class_weight=None, ...             0.001   \n",
       "2  SVC(C=1.0, cache_size=200, class_weight=None, ...             0.001   \n",
       "3  SVC(C=1.0, cache_size=200, class_weight=None, ...             0.001   \n",
       "4  SVC(C=1.0, cache_size=200, class_weight=None, ...             0.001   \n",
       "\n",
       "                                    param_reduce_dim  \\\n",
       "0  PCA(copy=True, iterated_power='auto', n_compon...   \n",
       "1  PCA(copy=True, iterated_power='auto', n_compon...   \n",
       "2  PCA(copy=True, iterated_power='auto', n_compon...   \n",
       "3  PCA(copy=True, iterated_power='auto', n_compon...   \n",
       "4  PCA(copy=True, iterated_power='auto', n_compon...   \n",
       "\n",
       "  param_reduce_dim__n_components  \\\n",
       "0                              2   \n",
       "1                              2   \n",
       "2                              2   \n",
       "3                              3   \n",
       "4                              3   \n",
       "\n",
       "                                       param_scaling  \\\n",
       "0  StandardScaler(copy=True, with_mean=True, with...   \n",
       "1      MinMaxScaler(copy=True, feature_range=(0, 1))   \n",
       "2  RobustScaler(copy=True, quantile_range=(25.0, ...   \n",
       "3  StandardScaler(copy=True, with_mean=True, with...   \n",
       "4      MinMaxScaler(copy=True, feature_range=(0, 1))   \n",
       "\n",
       "  param_classify__n_estimators       ...        split1_test_score  \\\n",
       "0                          NaN       ...                 0.944444   \n",
       "1                          NaN       ...                 0.972222   \n",
       "2                          NaN       ...                 0.944444   \n",
       "3                          NaN       ...                 0.972222   \n",
       "4                          NaN       ...                 0.972222   \n",
       "\n",
       "  split2_test_score  mean_test_score  std_test_score  rank_test_score  \\\n",
       "0          0.727273         0.876190        0.100818              632   \n",
       "1          0.757576         0.904762        0.099645              379   \n",
       "2          0.696970         0.857143        0.109046              721   \n",
       "3          0.757576         0.895238        0.093905              502   \n",
       "4          0.757576         0.904762        0.099645              379   \n",
       "\n",
       "   split0_train_score  split1_train_score  split2_train_score  \\\n",
       "0            0.927536            0.869565            0.944444   \n",
       "1            0.869565            0.840580            0.930556   \n",
       "2            0.869565            0.797101            0.888889   \n",
       "3            0.913043            0.956522            0.958333   \n",
       "4            0.913043            0.956522            0.944444   \n",
       "\n",
       "   mean_train_score  std_train_score  \n",
       "0          0.913849         0.032065  \n",
       "1          0.880233         0.037499  \n",
       "2          0.851852         0.039510  \n",
       "3          0.942633         0.020936  \n",
       "4          0.938003         0.018325  \n",
       "\n",
       "[5 rows x 23 columns]"
      ]
     },
     "execution_count": 65,
     "metadata": {},
     "output_type": "execute_result"
    }
   ],
   "source": [
    "# view the cross-validation grid search results in a DataFrame\n",
    "results_df = pd.DataFrame(grid.cv_results_)\n",
    "results_df.head()"
   ]
  },
  {
   "cell_type": "markdown",
   "metadata": {},
   "source": [
    "# EDA: visualize the data"
   ]
  },
  {
   "cell_type": "code",
   "execution_count": 66,
   "metadata": {},
   "outputs": [
    {
     "name": "stdout",
     "output_type": "stream",
     "text": [
      "Dimensions before PCA: (105, 4) | Dimensions after PCA: (105, 2)\n"
     ]
    }
   ],
   "source": [
    "pca = PCA(n_components=2)\n",
    "\n",
    "X_train_prime = pca.fit_transform(X_train)\n",
    "print('Dimensions before PCA: {} | Dimensions after PCA: {}'.format(X_train.shape, X_train_prime.shape))"
   ]
  },
  {
   "cell_type": "code",
   "execution_count": 67,
   "metadata": {},
   "outputs": [
    {
     "data": {
      "text/plain": [
       "0.9783568892916898"
      ]
     },
     "execution_count": 67,
     "metadata": {},
     "output_type": "execute_result"
    }
   ],
   "source": [
    "# how much variance is explained in the first principal component?\n",
    "pca.explained_variance_ratio_.sum()"
   ]
  },
  {
   "cell_type": "code",
   "execution_count": 68,
   "metadata": {},
   "outputs": [
    {
     "data": {
      "image/png": "[encoded data removed]",
      "text/plain": [
       "<Figure size 1440x504 with 2 Axes>"
      ]
     },
     "metadata": {},
     "output_type": "display_data"
    }
   ],
   "source": [
    "'''\n",
    "    IMPORTANT: \n",
    "    \"Even though the final dimensions of the data are 2 or 3, these 2 or 3 columns contain information from all 4 original features.\"\n",
    "'''\n",
    "\n",
    "fig = plt.figure(figsize=(20,7))\n",
    "ax = fig.add_subplot(121)\n",
    "ax.scatter(X_train[:, 0], X_train[:, 1], c=y_train, s=40)\n",
    "ax.set_title('Before PCA')\n",
    "\n",
    "ax2 = fig.add_subplot(122)\n",
    "ax2.scatter(X_train_prime[:, 0], X_train_prime[:, 1], c=y_train, s=40)\n",
    "ax2.set_title('After PCA')\n",
    "\n",
    "plt.show()"
   ]
  },
  {
   "cell_type": "code",
   "execution_count": 69,
   "metadata": {},
   "outputs": [
    {
     "data": {
      "text/plain": [
       "<seaborn.axisgrid.PairGrid at 0x2737fc018d0>"
      ]
     },
     "execution_count": 69,
     "metadata": {},
     "output_type": "execute_result"
    },
    {
     "data": {
      "image/png": "[encoded data removed]",
      "text/plain": [
       "<Figure size 439.125x360 with 6 Axes>"
      ]
     },
     "metadata": {},
     "output_type": "display_data"
    }
   ],
   "source": [
    "# plotting the decomposed data with Seaborn\n",
    "df = pd.DataFrame(data=X_train_prime, columns=['Component1', 'Component2'])\n",
    "df['Species'] = iris.target_names[y_train]\n",
    "\n",
    "sns.pairplot(data=df, hue='Species')"
   ]
  },
  {
   "cell_type": "markdown",
   "metadata": {},
   "source": [
    "## persist the optimized model to disk"
   ]
  },
  {
   "cell_type": "code",
   "execution_count": 70,
   "metadata": {},
   "outputs": [
    {
     "data": {
      "text/plain": [
       "{'scaling': None,\n",
       " 'reduce_dim': TruncatedSVD(algorithm='randomized', n_components=2, n_iter=5,\n",
       "        random_state=None, tol=0.0),\n",
       " 'classify': AdaBoostClassifier(algorithm='SAMME.R', base_estimator=None,\n",
       "           learning_rate=0.001, n_estimators=30, random_state=None)}"
      ]
     },
     "execution_count": 70,
     "metadata": {},
     "output_type": "execute_result"
    }
   ],
   "source": [
    "grid.best_estimator_.named_steps"
   ]
  },
  {
   "cell_type": "code",
   "execution_count": 71,
   "metadata": {},
   "outputs": [],
   "source": [
    "# serialize the top-performing model\n",
    "model = grid.best_estimator_\n",
    "pickle.dump(model, open('flower_classifier.pickle', 'wb'))"
   ]
  }
 ],
 "metadata": {
  "kernelspec": {
   "display_name": "Python 3",
   "language": "python",
   "name": "python3"
  },
  "language_info": {
   "codemirror_mode": {
    "name": "ipython",
    "version": 3
   },
   "file_extension": ".py",
   "mimetype": "text/x-python",
   "name": "python",
   "nbconvert_exporter": "python",
   "pygments_lexer": "ipython3",
   "version": "3.6.5"
  }
 },
 "nbformat": 4,
 "nbformat_minor": 2
}
